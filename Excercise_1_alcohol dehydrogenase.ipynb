{
 "cells": [
  {
   "cell_type": "markdown",
   "id": "67759be2",
   "metadata": {},
   "source": [
    "Dehydrogenase does dehydrogenation which is oxidation.\n",
    "Alcohol dehydorgenase is an oxidoreductase. This enzyme is in EC class 1 and it's EC number starts with 1.\n",
    "This enzyme catalyzes the oxidation of alcohol into aldehyde or ketone\n",
    "\n",
    "Alcohol dehydrogenase EC number = 1.1.1.1"
   ]
  },
  {
   "cell_type": "code",
   "execution_count": 9,
   "id": "9182f31b",
   "metadata": {},
   "outputs": [],
   "source": [
    "from rcsbapi.search import search_attributes as attrs"
   ]
  },
  {
   "cell_type": "code",
   "execution_count": 16,
   "id": "27b8a930",
   "metadata": {},
   "outputs": [
    {
     "name": "stdout",
     "output_type": "stream",
     "text": [
      "['1A71', '1A72', '1ADB', '1ADC', '1ADF', '1ADG', '1AGN', '1AXE', '1AXG', '1B14', '1B15', '1B16', '1B2L', '1BTO', '1CDO', '1D1S', '1D1T', '1DEH', '1E3E', '1E3I', '1E3L', '1EE2', '1H2B', '1HDX', '1HDY', '1HDZ', '1HET', '1HEU', '1HF3', '1HLD', '1HSO', '1HSZ', '1HT0', '1HTB', '1JU9', '1LDE', '1LDY', '1LLU', '1MA0', '1MC5', '1MG0', '1MG5', '1MGO', '1MP0', '1N8K', '1N92', '1O2D', '1P1R', '1QLH', '1QV6', '1QV7', '1R37', '1SBY', '1TEH', '1U3T', '1U3U', '1U3V', '1U3W', '2EER', '2FZE', '2FZW', '2JHF', '2JHG', '2OHX', '2OXI', '2XAA', '3BTO', '3COS', '3HUD', '3JV7', '3MEQ', '3OQ6', '3OX4', '3QJ5', '3RJ5', '3RJ9', '3S2E', '3S2F', '3S2G', '3S2I', '3UKO', '3WLE', '4BMS', '4BMV', '4C4O', '4CPD', '4DL9', '4DLB', '4DWV', '4DXH', '4GKV', '4GL4', '4JBI', '4JJI', '4L0Q', '4NFH', '4NFS', '4NG5', '4RQU', '4W6Z', '4XD2', '5ADH', '5CDG', '5CDS', '5CDT', '5CDU', '5ENV', '5ILG', '5ILO', '5KCP', '5KCZ', '5KJ1', '5KJ6', '5KJC', '5KJE', '5KJF', '5VKR', '5VL0', '5VN1', '6ADH', '6CXX', '6CY3', '6N7L', '6NBB', '6O91', '6OA7', '6OWM', '6OWP', '6QHE', '6SCG', '6TQH', '6TQM', '6XT2', '7BVP', '7JQA', '7K35', '7KC2', '7KCB', '7KJY', '7RM6', '7U9N', '7UA6', '7UC9', '7UCA', '7UCU', '7UDD', '7UDE', '7UDR', '7UEC', '7UEE', '7UEF', '7UEI', '7UEJ', '7UHV', '7UHW', '7UHX', '7UQ9', '7UTW', '7XWH', '7XWI', '7XWJ', '7XWK', '7XWL', '7XWM', '7XWN', '8CON', '8E7U', '8ECS', '8ECT', '8ECU', '8EE3', '8EIW', '8EIX', '8EIY', '8G2L', '8G2S', '8G2X', '8G39', '8G41', '8G4V', '8GV3', '8H2A', '8H2B']\n"
     ]
    }
   ],
   "source": [
    "EC_no = \"1.1.1.1\"      \n",
    "\n",
    "q1 = attrs.rcsb_polymer_entity.rcsb_ec_lineage.id == EC_no    \n",
    "q2 = attrs.chem_comp.formula_weight >= 400                 \n",
    "q3 = attrs.chem_comp.formula_weight <= 700                 \n",
    "\n",
    "query = q1 & q2 & q3            \n",
    "\n",
    "resultL = list(query())\n",
    "\n",
    "print(resultL)"
   ]
  },
  {
   "cell_type": "code",
   "execution_count": 17,
   "id": "095dcde5",
   "metadata": {},
   "outputs": [
    {
     "name": "stdout",
     "output_type": "stream",
     "text": [
      "There are 183 alcohol dehydrogenase structures that contain ligands with molecular weights between 400 and 700 in the RCSB PDB.\n"
     ]
    }
   ],
   "source": [
    "# How many structures have ligands with molecular weights between 400 and 700?\n",
    "\n",
    "print(f\"There are {len(resultL)} alcohol dehydrogenase structures that contain ligands with molecular weights between 400 and 700 in the RCSB PDB.\")"
   ]
  },
  {
   "cell_type": "code",
   "execution_count": 18,
   "id": "6c020414",
   "metadata": {},
   "outputs": [
    {
     "name": "stdout",
     "output_type": "stream",
     "text": [
      "['022', 'APR', 'CHD', 'CND', 'COD', 'NAD', 'NAI', 'NAJ', 'PAD', 'TAD', 'WKZ']\n"
     ]
    }
   ],
   "source": [
    "molResultL = list(query(\"mol_definition\"))\n",
    "print(molResultL)"
   ]
  },
  {
   "cell_type": "markdown",
   "id": "1fd6857f",
   "metadata": {},
   "source": [
    "NAD is a coenzyme (or, ligand) of alcohol dehydrogenase"
   ]
  },
  {
   "cell_type": "code",
   "execution_count": 19,
   "id": "b911c0c2",
   "metadata": {},
   "outputs": [
    {
     "name": "stdout",
     "output_type": "stream",
     "text": [
      "11 unique ligands are bound to structures with EC number 1.1.1.1.\n"
     ]
    }
   ],
   "source": [
    "# How many unique ligands are bound to these structures?\n",
    "molResultL = list(query(\"mol_definition\"))\n",
    "print(f'{len(molResultL)} unique ligands are bound to structures with EC number {EC_no}.')"
   ]
  },
  {
   "cell_type": "code",
   "execution_count": 20,
   "id": "7e170a2f",
   "metadata": {},
   "outputs": [],
   "source": [
    "import requests\n",
    "import os"
   ]
  },
  {
   "cell_type": "code",
   "execution_count": 22,
   "id": "c027422f",
   "metadata": {},
   "outputs": [
    {
     "data": {
      "text/plain": [
       "400"
      ]
     },
     "execution_count": 22,
     "metadata": {},
     "output_type": "execute_result"
    }
   ],
   "source": [
    "response_NAD_mol2 = requests.get('https://files.rcsb.org/ligands/download/NAD_ideal.mol2')\n",
    "response_NAD_mol2.status_code"
   ]
  },
  {
   "cell_type": "code",
   "execution_count": null,
   "id": "40d1eeca",
   "metadata": {},
   "outputs": [],
   "source": []
  }
 ],
 "metadata": {
  "kernelspec": {
   "display_name": "Python 3 (ipykernel)",
   "language": "python",
   "name": "python3"
  },
  "language_info": {
   "codemirror_mode": {
    "name": "ipython",
    "version": 3
   },
   "file_extension": ".py",
   "mimetype": "text/x-python",
   "name": "python",
   "nbconvert_exporter": "python",
   "pygments_lexer": "ipython3",
   "version": "3.11.5"
  }
 },
 "nbformat": 4,
 "nbformat_minor": 5
}
