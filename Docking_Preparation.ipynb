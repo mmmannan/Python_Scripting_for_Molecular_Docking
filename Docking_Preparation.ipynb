{
 "cells": [
  {
   "cell_type": "markdown",
   "id": "c387081a-da45-481c-8af4-bf22d6a2c64a",
   "metadata": {},
   "source": [
    "Python libraries:\n",
    "    rcsbsearchapi >>> functions for searching the Protein Data Bank based on the mmCIF dictionary,\n",
    "    requests >>> access web URLs - used with APIs for databases,\n",
    "    os >>> operating system functions - handling file paths and directories,\n",
    "    nglview (nv) >>> for viewing molecular structures,\n",
    "    MDAnalysis (mda) >>> molecular dynamics library - used for reading/writing files and selecting atoms"
   ]
  },
  {
   "cell_type": "markdown",
   "id": "796662b9-48ee-43c4-af7e-ee744af1334b",
   "metadata": {},
   "source": [
    "Softwares:\n",
    "    pdb2pqr >>> adding hydrogens and missing atoms to protein, adjusting for pH\n",
    "    meeko >>> preparing ligands for docking"
   ]
  },
  {
   "cell_type": "markdown",
   "id": "1be4a43e-24fe-4a4b-bb53-cb026dd2abed",
   "metadata": {},
   "source": [
    "Finding and saving a protein structure"
   ]
  },
  {
   "cell_type": "code",
   "execution_count": 3,
   "id": "4e3a5d71-57ee-45c1-9741-03c16113ebff",
   "metadata": {
    "tags": []
   },
   "outputs": [],
   "source": [
    "from rcsbsearchapi.search import TextQuery\n",
    "from rcsbsearchapi import rcsb_attributes as attrs"
   ]
  },
  {
   "cell_type": "code",
   "execution_count": 4,
   "id": "c1d3f048-01f6-417d-b29d-a4516d19c383",
   "metadata": {
    "tags": []
   },
   "outputs": [
    {
     "name": "stdout",
     "output_type": "stream",
     "text": [
      "['2ZQ2']\n"
     ]
    }
   ],
   "source": [
    "ECnumber = \"3.4.21.4\"   \n",
    "\n",
    "q1 = attrs.rcsb_polymer_entity.rcsb_ec_lineage.id == ECnumber    # looking for trypsins\n",
    "q2 = TextQuery(\"13U\")     # looking for ligand\n",
    "\n",
    "query = q1 & q2        # combining the two queries into one\n",
    "\n",
    "results = list(query())\n",
    "print(results)"
   ]
  },
  {
   "cell_type": "code",
   "execution_count": 6,
   "id": "83b5ca9e-a0a5-4c31-b2e0-e481473aaefa",
   "metadata": {
    "tags": []
   },
   "outputs": [
    {
     "name": "stdout",
     "output_type": "stream",
     "text": [
      "2ZQ2\n"
     ]
    }
   ],
   "source": [
    "PDBID = results[0]\n",
    "print(PDBID)"
   ]
  },
  {
   "cell_type": "code",
   "execution_count": 7,
   "id": "e2fb5ae3-1f65-4b4b-b28b-0775972dac47",
   "metadata": {
    "tags": []
   },
   "outputs": [
    {
     "name": "stdout",
     "output_type": "stream",
     "text": [
      "2zq2\n"
     ]
    }
   ],
   "source": [
    "pdbid = results[0].lower()      # Get the PDB ID from the list and convert it to lowercase\n",
    "print(pdbid)"
   ]
  },
  {
   "cell_type": "code",
   "execution_count": 8,
   "id": "02428b3b-4225-4296-b2a3-cfc9b53ebe18",
   "metadata": {
    "tags": []
   },
   "outputs": [],
   "source": [
    "import os    # for making directories\n",
    "import requests\n",
    "\n",
    "# make a directory for pdb files\n",
    "protein_directory = \"protein_structures\"\n",
    "\n",
    "# fill in function to make directories\n",
    "os.makedirs(protein_directory, exist_ok = True)"
   ]
  },
  {
   "cell_type": "code",
   "execution_count": 9,
   "id": "75911ac8-8555-4831-968e-c895e590e461",
   "metadata": {
    "tags": []
   },
   "outputs": [
    {
     "data": {
      "text/plain": [
       "200"
      ]
     },
     "execution_count": 9,
     "metadata": {},
     "output_type": "execute_result"
    }
   ],
   "source": [
    "pdb_request = requests.get(f\"https://files.rcsb.org/download/{pdbid}.pdb\")\n",
    "pdb_request.status_code"
   ]
  },
  {
   "cell_type": "code",
   "execution_count": 10,
   "id": "7b282416-1496-4b7a-a461-e83cecc52224",
   "metadata": {},
   "outputs": [],
   "source": [
    "with open(f'{protein_directory}/{pdbid}.pdb', \"w+\") as f:\n",
    "    f.write(pdb_request.text)"
   ]
  },
  {
   "cell_type": "markdown",
   "id": "a4a79c7f-877e-4ca4-8a81-e20998f672bd",
   "metadata": {},
   "source": [
    "# Visualizing the protein strucure"
   ]
  },
  {
   "cell_type": "code",
   "execution_count": 11,
   "id": "bc755813-0186-42e1-bb34-098260a25ee2",
   "metadata": {},
   "outputs": [
    {
     "name": "stderr",
     "output_type": "stream",
     "text": [
      "/opt/conda/lib/python3.11/site-packages/MDAnalysis/topology/TPRParser.py:161: DeprecationWarning: 'xdrlib' is deprecated and slated for removal in Python 3.13\n",
      "  import xdrlib\n"
     ]
    },
    {
     "data": {
      "text/plain": [
       "<Universe with 2024 atoms>"
      ]
     },
     "execution_count": 11,
     "metadata": {},
     "output_type": "execute_result"
    }
   ],
   "source": [
    "import MDAnalysis as mda\n",
    "\n",
    "# Load into MDA universe\n",
    "u = mda.Universe(f\"{protein_directory}/{pdbid}.pdb\")      # u for universe\n",
    "u"
   ]
  },
  {
   "cell_type": "code",
   "execution_count": 12,
   "id": "3bf26367-17c5-4fa5-9faa-43541c5b0954",
   "metadata": {},
   "outputs": [
    {
     "data": {
      "application/vnd.jupyter.widget-view+json": {
       "model_id": "8839474df0c74d07a65b1a71e6e574d7",
       "version_major": 2,
       "version_minor": 0
      },
      "text/plain": []
     },
     "metadata": {},
     "output_type": "display_data"
    },
    {
     "data": {
      "application/vnd.jupyter.widget-view+json": {
       "model_id": "66e58bfaeb084965b5b0e39ad11f0cd0",
       "version_major": 2,
       "version_minor": 0
      },
      "text/plain": [
       "NGLWidget()"
      ]
     },
     "metadata": {},
     "output_type": "display_data"
    }
   ],
   "source": [
    "import nglview as nv\n",
    "\n",
    "# create and show an NGLView from an MDAnalysis universe\n",
    "view = nv.show_mdanalysis(u)\n",
    "view"
   ]
  },
  {
   "cell_type": "code",
   "execution_count": 18,
   "id": "9a447d51-1955-44cf-ae7c-8fedefee2226",
   "metadata": {
    "tags": []
   },
   "outputs": [],
   "source": [
    "#We will create separate variables for the protein, ligand and water.\n",
    "\n",
    "# Select protein atoms\n",
    "protein = u.select_atoms(\"protein\")\n",
    "\n",
    "# Select ligand atoms\n",
    "ligand = u.select_atoms(\"resname 13U\")\n",
    "\n",
    "# Select water molecules\n",
    "water = u.select_atoms(\"resname HOH\")"
   ]
  },
  {
   "cell_type": "code",
   "execution_count": 19,
   "id": "4e3e212e-7072-47f6-89c7-6b7cbeed4e05",
   "metadata": {
    "tags": []
   },
   "outputs": [
    {
     "data": {
      "text/plain": [
       "<AtomGroup with 1670 atoms>"
      ]
     },
     "execution_count": 19,
     "metadata": {},
     "output_type": "execute_result"
    }
   ],
   "source": [
    "protein"
   ]
  },
  {
   "cell_type": "code",
   "execution_count": 20,
   "id": "00206600-ef69-4f84-a2a9-5145ccefdd4f",
   "metadata": {
    "tags": []
   },
   "outputs": [
    {
     "data": {
      "text/plain": [
       "<AtomGroup with 60 atoms>"
      ]
     },
     "execution_count": 20,
     "metadata": {},
     "output_type": "execute_result"
    }
   ],
   "source": [
    "ligand"
   ]
  },
  {
   "cell_type": "code",
   "execution_count": 21,
   "id": "7b5c7413-dfa6-478e-a00f-b294a9b5a48e",
   "metadata": {
    "tags": []
   },
   "outputs": [
    {
     "data": {
      "text/plain": [
       "<AtomGroup with 269 atoms>"
      ]
     },
     "execution_count": 21,
     "metadata": {},
     "output_type": "execute_result"
    }
   ],
   "source": [
    "water"
   ]
  },
  {
   "cell_type": "code",
   "execution_count": 22,
   "id": "244fcbc3-591f-4706-a70b-1c62d5571848",
   "metadata": {
    "tags": []
   },
   "outputs": [
    {
     "data": {
      "text/plain": [
       "1999"
      ]
     },
     "execution_count": 22,
     "metadata": {},
     "output_type": "execute_result"
    }
   ],
   "source": [
    "1670 + 60 + 269"
   ]
  },
  {
   "cell_type": "code",
   "execution_count": 23,
   "id": "283f9362-353f-4c2c-b3c5-4a9f9aaa4e3f",
   "metadata": {
    "tags": []
   },
   "outputs": [
    {
     "data": {
      "application/vnd.jupyter.widget-view+json": {
       "model_id": "25a1f0b0446044199f844e5a6f2c8171",
       "version_major": 2,
       "version_minor": 0
      },
      "text/plain": [
       "NGLWidget()"
      ]
     },
     "metadata": {},
     "output_type": "display_data"
    }
   ],
   "source": [
    "prot_view = nv.show_mdanalysis(protein)\n",
    "prot_view.clear_representations()\n",
    "# Add representation to view protein surface colored by hydrophobicity\n",
    "prot_view.add_representation(\"surface\", colorScheme = \"hydrophobicity\")\n",
    "\n",
    "lig_view = prot_view.add_component(ligand)\n",
    "lig_view.add_representation(\"ball+stick\")\n",
    "\n",
    "water_view = prot_view.add_component(water)\n",
    "water_view.add_representation(\"spacefill\")\n",
    "\n",
    "prot_view"
   ]
  },
  {
   "cell_type": "code",
   "execution_count": 24,
   "id": "07e7ee6f-77e3-4754-ab6d-8e1b483fa9d9",
   "metadata": {
    "tags": []
   },
   "outputs": [
    {
     "name": "stderr",
     "output_type": "stream",
     "text": [
      "/opt/conda/lib/python3.11/site-packages/MDAnalysis/coordinates/PDB.py:1151: UserWarning: Found no information for attr: 'formalcharges' Using default value of '0'\n",
      "  warnings.warn(\"Found no information for attr: '{}'\"\n"
     ]
    }
   ],
   "source": [
    "# Write protein to new PDB file\n",
    "protein.write(f\"{protein_directory}/protein_{pdbid}.pdb\")"
   ]
  },
  {
   "cell_type": "markdown",
   "id": "daa02102-87d5-46da-80e3-969febc22de1",
   "metadata": {},
   "source": [
    "green areas of protein surface = hydrophilic \n",
    "red areas of protein surface = hydrophobic"
   ]
  },
  {
   "cell_type": "markdown",
   "id": "10b2be92-0d7c-427b-ae87-dc3f9d8ec294",
   "metadata": {
    "tags": []
   },
   "source": [
    "Protein Charge: \n",
    "After saving the protein in the cell above, you may see a warning about information for formal charges not being set in the protein. This warning appears because MDAnalysis did not find specific formal charge data in the PDB file and used a default value instead. This is not a concern for us because we will adjust the protonation states of different residues using PDB2PQR in the next steps."
   ]
  },
  {
   "cell_type": "markdown",
   "id": "ac06144f-33bd-4b42-b7e7-b75a8614e8c2",
   "metadata": {},
   "source": [
    "# Fixing the protein structure"
   ]
  },
  {
   "cell_type": "markdown",
   "id": "21f37330-0fcb-437d-b970-596d020952c5",
   "metadata": {},
   "source": [
    "We will want to ensure that we've correctly added hydrogen and fixed any missing atoms."
   ]
  },
  {
   "cell_type": "markdown",
   "id": "6c3b95e6-ac88-43e8-952d-07b4ee34aa5d",
   "metadata": {},
   "source": [
    "We will use the command-line interface of PDB2PQR. \n",
    "This means that you would usually type the command below into your terminal. \n",
    "You can run command line commands in the Jupyter notebook \n",
    "by putting a ! in front of the command."
   ]
  },
  {
   "cell_type": "code",
   "execution_count": 25,
   "id": "abeb3069-0459-4090-b1c0-87d238541518",
   "metadata": {},
   "outputs": [
    {
     "name": "stdout",
     "output_type": "stream",
     "text": [
      "INFO:PDB2PQR v3.6.1: biomolecular structure conversion software.\n",
      "INFO:Please cite:  Jurrus E, et al.  Improvements to the APBS biomolecular solvation software suite.  Protein Sci 27 112-128 (2018).\n",
      "INFO:Please cite:  Dolinsky TJ, et al.  PDB2PQR: expanding and upgrading automated preparation of biomolecular structures for molecular simulations. Nucleic Acids Res 35 W522-W525 (2007).\n",
      "INFO:Checking and transforming input arguments.\n",
      "INFO:Loading topology files.\n",
      "INFO:Loading molecule: protein_structures/protein_2zq2.pdb\n",
      "ERROR:Error parsing line: invalid literal for int() with base 10: ''\n",
      "ERROR:<REMARK     2>\n",
      "ERROR:Truncating remaining errors for record type:REMARK\n",
      "WARNING:Warning: protein_structures/protein_2zq2.pdb is a non-standard PDB file.\n",
      "\n",
      "ERROR:['REMARK']\n",
      "INFO:Setting up molecule.\n",
      "INFO:Created biomolecule object with 223 residues and 1625 atoms.\n",
      "WARNING:Multiple occupancies found: N in SER A 61.\n",
      "WARNING:Multiple occupancies found: CA in SER A 61.\n",
      "WARNING:Multiple occupancies found: C in SER A 61.\n",
      "WARNING:Multiple occupancies found: O in SER A 61.\n",
      "WARNING:Multiple occupancies found: CB in SER A 61.\n",
      "WARNING:Multiple occupancies found: OG in SER A 61.\n",
      "WARNING:Multiple occupancies found in SER A 61. At least one of the instances is being ignored.\n",
      "WARNING:Multiple occupancies found: N in SER A 113.\n",
      "WARNING:Multiple occupancies found: CA in SER A 113.\n",
      "WARNING:Multiple occupancies found: C in SER A 113.\n",
      "WARNING:Multiple occupancies found: O in SER A 113.\n",
      "WARNING:Multiple occupancies found: CB in SER A 113.\n",
      "WARNING:Multiple occupancies found: OG in SER A 113.\n",
      "WARNING:Multiple occupancies found in SER A 113. At least one of the instances is being ignored.\n",
      "WARNING:Multiple occupancies found: N in SER A 122.\n",
      "WARNING:Multiple occupancies found: CA in SER A 122.\n",
      "WARNING:Multiple occupancies found: C in SER A 122.\n",
      "WARNING:Multiple occupancies found: O in SER A 122.\n",
      "WARNING:Multiple occupancies found: CB in SER A 122.\n",
      "WARNING:Multiple occupancies found: OG in SER A 122.\n",
      "WARNING:Multiple occupancies found in SER A 122. At least one of the instances is being ignored.\n",
      "WARNING:Multiple occupancies found: N in SER A 167.\n",
      "WARNING:Multiple occupancies found: CA in SER A 167.\n",
      "WARNING:Multiple occupancies found: C in SER A 167.\n",
      "WARNING:Multiple occupancies found: O in SER A 167.\n",
      "WARNING:Multiple occupancies found: CB in SER A 167.\n",
      "WARNING:Multiple occupancies found: OG in SER A 167.\n",
      "WARNING:Multiple occupancies found in SER A 167. At least one of the instances is being ignored.\n",
      "WARNING:Multiple occupancies found: N in SER A 170.\n",
      "WARNING:Multiple occupancies found: CA in SER A 170.\n",
      "WARNING:Multiple occupancies found: C in SER A 170.\n",
      "WARNING:Multiple occupancies found: O in SER A 170.\n",
      "WARNING:Multiple occupancies found: CB in SER A 170.\n",
      "WARNING:Multiple occupancies found: OG in SER A 170.\n",
      "WARNING:Multiple occupancies found in SER A 170. At least one of the instances is being ignored.\n",
      "WARNING:Multiple occupancies found: N in SER A 236.\n",
      "WARNING:Multiple occupancies found: CA in SER A 236.\n",
      "WARNING:Multiple occupancies found: C in SER A 236.\n",
      "WARNING:Multiple occupancies found: O in SER A 236.\n",
      "WARNING:Multiple occupancies found: CB in SER A 236.\n",
      "WARNING:Multiple occupancies found: OG in SER A 236.\n",
      "WARNING:Multiple occupancies found in SER A 236. At least one of the instances is being ignored.\n",
      "WARNING:Multiple occupancies found: N in GLN A 240.\n",
      "WARNING:Multiple occupancies found: CA in GLN A 240.\n",
      "WARNING:Multiple occupancies found: C in GLN A 240.\n",
      "WARNING:Multiple occupancies found: O in GLN A 240.\n",
      "WARNING:Multiple occupancies found: CB in GLN A 240.\n",
      "WARNING:Multiple occupancies found: CG in GLN A 240.\n",
      "WARNING:Multiple occupancies found: CD in GLN A 240.\n",
      "WARNING:Multiple occupancies found: OE1 in GLN A 240.\n",
      "WARNING:Multiple occupancies found: NE2 in GLN A 240.\n",
      "WARNING:Multiple occupancies found in GLN A 240. At least one of the instances is being ignored.\n",
      "INFO:Setting termini states for biomolecule chains.\n",
      "INFO:Loading forcefield.\n",
      "INFO:Loading hydrogen topology definitions.\n",
      "WARNING:Missing atom CG in residue LYS A 222\n",
      "WARNING:Missing atom CD in residue LYS A 222\n",
      "WARNING:Missing atom CE in residue LYS A 222\n",
      "WARNING:Missing atom NZ in residue LYS A 222\n",
      "WARNING:Missing atom CG in residue LYS A 222\n",
      "WARNING:Missing atom CD in residue LYS A 222\n",
      "WARNING:Missing atom CE in residue LYS A 222\n",
      "WARNING:Missing atom NZ in residue LYS A 222\n",
      "INFO:Attempting to repair 4 missing atoms in biomolecule.\n",
      "WARNING:Missing atom CG in residue LYS A 222\n",
      "WARNING:Missing atom CD in residue LYS A 222\n",
      "WARNING:Missing atom CE in residue LYS A 222\n",
      "WARNING:Missing atom NZ in residue LYS A 222\n",
      "INFO:Added atom CG to residue LYS A 222 at coordinates 30.628, -3.449, -0.010\n",
      "INFO:Added atom CD to residue LYS A 222 at coordinates 32.074, -3.541, -0.453\n",
      "INFO:Added atom CE to residue LYS A 222 at coordinates 32.755, -2.198, -0.512\n",
      "INFO:Added atom NZ to residue LYS A 222 at coordinates 34.167, -2.339, -0.950\n",
      "INFO:Updating disulfide bridges.\n",
      "INFO:Debumping biomolecule.\n",
      "INFO:Adding hydrogens to biomolecule.\n",
      "INFO:Debumping biomolecule (again).\n",
      "INFO:Optimizing hydrogen bonds\n",
      "INFO:Applying force field to biomolecule states.\n",
      "INFO:Regenerating headers.\n",
      "INFO:Regenerating PDB lines.\n",
      "WARNING:Ignoring 390 header lines in output.\n",
      "WARNING:Ignoring 390 header lines in output.\n"
     ]
    }
   ],
   "source": [
    "! pdb2pqr --pdb-output=protein_structures/protein_h.pdb --pH=7.4 protein_structures/protein_2zq2.pdb protein_structures/protein_2zq2.pqr --whitespace"
   ]
  },
  {
   "cell_type": "markdown",
   "id": "14997f4e-40b4-46f1-ac3f-2715da5f45d5",
   "metadata": {
    "tags": []
   },
   "source": [
    "# Saving a protein PDBQT File"
   ]
  },
  {
   "cell_type": "markdown",
   "id": "c5fe2c90-ff18-425c-ba8e-6a16525df30a",
   "metadata": {
    "tags": []
   },
   "source": [
    "The PDB2PQR program outputs two files, a PDB file and a PQR file. The PDB file is similar to PDB files we have worked with before, except that it contains hydrogens. The PQR file is another molecular file format that is similar to a PDB, but contains information about atomic radii and atomic charges."
   ]
  },
  {
   "cell_type": "markdown",
   "id": "2bd7a18d-ea03-4e72-b51f-d550bba8ff39",
   "metadata": {},
   "source": [
    "For use with AutoDock Vina, we need our protein file to be in the \"PDBQT\" format. PDBQT is a specialized file format used by AutoDock Vina and other AutoDock tools. Like the PQR format, the PDBQT format can also contain partial charges. We will load our PQR file and use MDAnalysis to write a PDBQT file."
   ]
  },
  {
   "cell_type": "code",
   "execution_count": 26,
   "id": "8e3c6a0a-7f7c-4402-ab45-4fc4a9fa9885",
   "metadata": {},
   "outputs": [],
   "source": [
    "# make a directory for pdbqt files\n",
    "pdbqt_directory = \"pdbqt\"\n",
    "os.makedirs(pdbqt_directory, exist_ok = True)"
   ]
  },
  {
   "cell_type": "code",
   "execution_count": 27,
   "id": "8c8a46a5-c3ff-4330-aa22-a9813e1ca011",
   "metadata": {},
   "outputs": [
    {
     "name": "stderr",
     "output_type": "stream",
     "text": [
      "/opt/conda/lib/python3.11/site-packages/MDAnalysis/coordinates/PDBQT.py:295: UserWarning: Supplied AtomGroup was missing the following attributes: altLocs, occupancies, tempfactors. These will be written with default values. \n",
      "  warnings.warn(\n"
     ]
    }
   ],
   "source": [
    "u = mda.Universe(f\"{protein_directory}/protein_{pdbid}.pqr\")\n",
    "u.atoms.write(f\"{pdbqt_directory}/{pdbid}.pdbqt\")"
   ]
  },
  {
   "cell_type": "markdown",
   "id": "bbbb4e51-8d13-482e-baff-903708838ca5",
   "metadata": {
    "tags": []
   },
   "source": [
    "The PDBQT file generated by MDAnalysis includes two lines at the start of the structure that AutoDock Vina doesn't accept. These lines start with \"TITLE\" and \"CRYST1\". To resolve this, the following cell replaces these lines with \"REMARK\", which is acceptable to AutoDock Vina."
   ]
  },
  {
   "cell_type": "code",
   "execution_count": 28,
   "id": "cb4deffa-340d-4868-af0b-85bc65e93251",
   "metadata": {
    "tags": []
   },
   "outputs": [],
   "source": [
    "# Read in the just-written PDBQT file\n",
    "with open(f'{pdbqt_directory}/{pdbid}.pdbqt') as file:\n",
    "    file_content = file.read()"
   ]
  },
  {
   "cell_type": "code",
   "execution_count": 29,
   "id": "fd861789-3983-4f1e-bf8b-7e9a565ea740",
   "metadata": {},
   "outputs": [],
   "source": [
    "# Replace 'TITLE' and 'CRYST1' with 'REMARK'\n",
    "mod_file_content = file_content.replace('TITLE', 'REMARK').replace('CRYST1', 'REMARK')"
   ]
  },
  {
   "cell_type": "code",
   "execution_count": 30,
   "id": "6e85eed7-9b47-499b-bf29-c629345e4c27",
   "metadata": {
    "tags": []
   },
   "outputs": [],
   "source": [
    "# Write the modified content back to the file\n",
    "with open(f'{pdbqt_directory}/{pdbid}.pdbqt', 'w') as file:\n",
    "    file.write(mod_file_content)"
   ]
  },
  {
   "cell_type": "markdown",
   "id": "a5675ee9-1cb2-46a7-8f05-faabce0bca72",
   "metadata": {
    "tags": []
   },
   "source": [
    "# Ligand Preparation"
   ]
  },
  {
   "cell_type": "markdown",
   "id": "663dfda7-8a91-410c-ab04-c284d99bc95c",
   "metadata": {
    "tags": []
   },
   "source": [
    "We are going to use a special program for small molecules and docking called meeko. We choose to use meeko for our ligands because it will allow us to more easily visualize our results later. Note that when using meeko, ligands should have hydrogens added already.\n",
    "\n",
    "We are using the command line for meeko to convert an SDF to a PDBQT."
   ]
  },
  {
   "cell_type": "markdown",
   "id": "c280f073-3f3a-4059-bf8e-3d6c70bdc8d3",
   "metadata": {},
   "source": [
    "In the cell below, we execute a command that converts our sdf ligands that we prepared in the molecule_manipulation notebook to a PDBQT file."
   ]
  },
  {
   "cell_type": "code",
   "execution_count": 33,
   "id": "ddb65e5b-1620-4913-8f71-3478ccf79cce",
   "metadata": {},
   "outputs": [
    {
     "name": "stdout",
     "output_type": "stream",
     "text": [
      "Input molecules processed: 1, skipped: 0\n",
      "PDBQT files written: 1\n",
      "PDBQT files not written due to error: 0\n",
      "Input molecules with errors: 0\n",
      "Input molecules processed: 1, skipped: 0\n",
      "PDBQT files written: 1\n",
      "PDBQT files not written due to error: 0\n",
      "Input molecules with errors: 0\n",
      "Input molecules processed: 1, skipped: 0\n",
      "PDBQT files written: 1\n",
      "PDBQT files not written due to error: 0\n",
      "Input molecules with errors: 0\n"
     ]
    }
   ],
   "source": [
    "# Use meeko to prepare small molecules \n",
    "# using meeko helps us visualize them later\n",
    "# ! mk_prepare_ligand.py -i input -o output\n",
    "\n",
    "! mk_prepare_ligand.py -i ligands_to_dock/13U.sdf -o pdbqt/13U.pdbqt\n",
    "! mk_prepare_ligand.py -i ligands_to_dock/13U_modified_methyl.sdf -o pdbqt/13U_modified_methyl.pdbqt\n",
    "! mk_prepare_ligand.py -i ligands_to_dock/13U_modified_N.sdf -o pdbqt/13U_modified_N.pdbqt"
   ]
  },
  {
   "cell_type": "code",
   "execution_count": null,
   "id": "f70b0402-78b3-4b47-9626-648a32befc21",
   "metadata": {
    "tags": []
   },
   "outputs": [],
   "source": []
  },
  {
   "cell_type": "code",
   "execution_count": null,
   "id": "9f30af93-3495-4a58-8efa-5d5257b1b350",
   "metadata": {},
   "outputs": [],
   "source": []
  },
  {
   "cell_type": "code",
   "execution_count": null,
   "id": "98da13fc-dcf0-4a3b-ba12-3513ebc7b3e1",
   "metadata": {
    "tags": []
   },
   "outputs": [],
   "source": []
  },
  {
   "cell_type": "code",
   "execution_count": null,
   "id": "e59b4e96-a2dd-4240-86c5-e6746af82b0b",
   "metadata": {},
   "outputs": [],
   "source": []
  },
  {
   "cell_type": "code",
   "execution_count": null,
   "id": "fd1e5cc5-5444-4a34-abde-05ed1e4b8e35",
   "metadata": {},
   "outputs": [],
   "source": []
  }
 ],
 "metadata": {
  "kernelspec": {
   "display_name": "Python 3 (ipykernel)",
   "language": "python",
   "name": "python3"
  },
  "language_info": {
   "codemirror_mode": {
    "name": "ipython",
    "version": 3
   },
   "file_extension": ".py",
   "mimetype": "text/x-python",
   "name": "python",
   "nbconvert_exporter": "python",
   "pygments_lexer": "ipython3",
   "version": "3.11.9"
  }
 },
 "nbformat": 4,
 "nbformat_minor": 5
}
