{
 "cells": [
  {
   "cell_type": "markdown",
   "id": "60951e9c-0a11-44b9-8d62-227eaba954a1",
   "metadata": {},
   "source": [
    "rcsbsearchapi >>> functions for searching the Protein Data Bank based on the mmCIF dictionary,\n",
    "os >>> operating system functions - handling file paths and directories,\n",
    "requests >>> access APIs for databases,\n",
    "rdkit >>> an open source github repository of cheminformatics software,\n",
    "rdkit.Chem (Chem) >>> a subset of rdkit that supports file string to structure conversions,\n",
    "rdkit.Chem.AllChem (AllChem) >>> a subset of rdkit.Chem that supports energy optimization,\n",
    "rdkit.Chem.Draw (Draw) >>> a subset of rdkit.Chem that supports chemical drawing in Python,\n",
    "vina >>> AutoDock Vina software for Python and Jupyter notebooks"
   ]
  },
  {
   "cell_type": "code",
   "execution_count": 1,
   "id": "32316296",
   "metadata": {},
   "outputs": [],
   "source": [
    "# Import the components of rcsbsearchapi needed for this search\n",
    "from rcsbsearchapi import rcsb_attributes as attrs"
   ]
  },
  {
   "cell_type": "markdown",
   "id": "68406d65-1bfe-40ca-a710-2faef8fa73ed",
   "metadata": {},
   "source": [
    "# Making queries"
   ]
  },
  {
   "cell_type": "code",
   "execution_count": 2,
   "id": "2eed811f",
   "metadata": {},
   "outputs": [
    {
     "name": "stdout",
     "output_type": "stream",
     "text": [
      "['1AQ7', '1AUJ', '1AZ8', '1BJV', '1BTW', '1BTX', '1BTZ', '1C1S', '1C1T', '1C2D', '1C2E', '1C2F', '1C2G', '1C2H', '1C2I', '1C2J', '1C5Q', '1C5R', '1EB2', '1F0T', '1F0U', '1FXY', '1G36', '1GJ6', '1J17', '1JRS', '1JRT', '1K1I', '1K1J', '1K1L', '1K1M', '1K1N', '1K1O', '1K1P', '1LQE', '1MAX', '1MAY', '1MTS', '1MTU', '1MTV', '1MTW', '1NC6', '1O2H', '1O2I', '1O2J', '1O2K', '1O2L', '1O2M', '1O2N', '1O2O', '1O2P', '1O2Q', '1O2R', '1O2T', '1O2U', '1O2V', '1O2W', '1O2X', '1O2Y', '1O2Z', '1O30', '1O36', '1O37', '1O38', '1O39', '1O3A', '1O3B', '1O3C', '1O3D', '1O3E', '1O3F', '1O3G', '1O3H', '1O3I', '1O3J', '1O3K', '1O3L', '1O3M', '1O3N', '1O3O', '1OYQ', '1PPC', '1PPH', '1QB1', '1QB6', '1QB9', '1QBN', '1QBO', '1QCP', '1QL7', '1QL8', '1QL9', '1RXP', '1SFI', '1TYN', '1V2K', '1V2N', '1V2O', '1V2P', '1V2Q', '1V2R', '1V2T', '1V2W', '1XUF', '1XUG', '1XUH', '1XUI', '1XUJ', '1XUK', '1Y3U', '1Y3V', '1Y3W', '1Y3X', '1Y3Y', '1Y59', '1Y5A', '1Y5B', '1Y5U', '1YP9', '1YYY', '1ZZZ', '2AGI', '2AYW', '2D8W', '2ZDK', '2ZDL', '2ZDM', '2ZDN', '2ZFS', '2ZFT', '2ZHD', '2ZQ1', '2ZQ2', '3A8B', '3AAU', '3AAV', '3GY3', '3ITI', '3LJJ', '3LJO', '3M35', '3PLK', '3PLP', '3PM3', '3PMJ', '3PWC', '3PYH', '3Q00', '3UNS', '3UOP', '3UPE', '3UQO', '3UQV', '3UUZ', '3UWI', '3V0X', '3V12', '3V13', '4ABI', '4ABJ', '4DOQ', '4GUX', '4HGC', '4KTS', '4KTU', '4MTB', '5EG4', '5LGO', '5LH4', '5LH8', '5MNQ', '6BFP', '6QL0', '6SY3', '6T0M', '6T0P', '6T5W', '6T9U', '6T9V', '6VXY', '6YDY', '6ZQ2', '7JWX', '8IYV', '8KDU', '8UO7', '8XNI']\n"
     ]
    }
   ],
   "source": [
    "# There will be three components to the query, which will be labeled as q1, q2 and q3\n",
    "ECnumber = \"3.4.21.4\"      # string variable\n",
    "\n",
    "q1 = attrs.rcsb_polymer_entity.rcsb_ec_lineage.id == ECnumber    # looking for trypsin structure with EC = 3.4.21.4\n",
    "q2 = attrs.chem_comp.formula_weight >= 300                 # setting the lower limit for molecular weight of ligands\n",
    "q3 = attrs.chem_comp.formula_weight <= 800                 # setting the upper limit for molecular weight of ligands\n",
    "\n",
    "query = q1 & q2 & q3            # combining the three queries into one\n",
    "\n",
    "resultL = list(query())        # assign the results of the query into a list variable\n",
    "\n",
    "print(resultL)"
   ]
  },
  {
   "cell_type": "code",
   "execution_count": 3,
   "id": "2fd11b2e",
   "metadata": {},
   "outputs": [
    {
     "name": "stdout",
     "output_type": "stream",
     "text": [
      "There are 187 trypsin structures that contain ligands in the RCSB PDB.\n"
     ]
    }
   ],
   "source": [
    "print(\"There are\",len(resultL),\"trypsin structures that contain ligands in the RCSB PDB.\")"
   ]
  },
  {
   "cell_type": "code",
   "execution_count": 4,
   "id": "ef023108",
   "metadata": {},
   "outputs": [
    {
     "name": "stdout",
     "output_type": "stream",
     "text": [
      "['1AQ7', '1AUJ', '1AZ8', '1BJV', '1BTW', '1BTX', '1BTZ', '1C1S', '1C1T', '1C2D']\n"
     ]
    }
   ],
   "source": [
    "print(resultL[0:10])               # first 10 results"
   ]
  },
  {
   "cell_type": "markdown",
   "id": "6e52c8eb-c677-4328-9e73-143f534b0d45",
   "metadata": {},
   "source": [
    "# Finding the ligands"
   ]
  },
  {
   "cell_type": "code",
   "execution_count": 5,
   "id": "9bf887a9",
   "metadata": {},
   "outputs": [
    {
     "name": "stdout",
     "output_type": "stream",
     "text": [
      "['0CA', '0CB', '0G6', '0IV', '0KV', '0ZG', '0ZW', '0ZX', '0ZY', '10U', '11U', '12U', '132', '13U', '169', '1NJ', '312', '32U', '334', '3YH', '45U', '46U', '49U', '50U', '607', '623', '653', '655', '656', '678', '688', '693', '696', '6VZ', '6W4', '6WH', '711', '762', '780', '783', '785', '806', '847', '907', '950', '972', '974', '991', 'A2C', 'ABB', 'ANH', 'BAB', 'BAH', 'BAK', 'BAO', 'BAZ', 'BBA', 'BOZ', 'BPO', 'BR6', 'BRV', 'BX3', 'BZY', 'CCR', 'CR3', 'CR9', 'CTA', 'DJY', 'DX9', 'E64', 'ESI', 'FD1', 'FD2', 'FD3', 'FD4', 'FO9', 'GOZ', 'GP8', 'GZC', 'I4Q', 'IGN', 'IMA', 'IN4', 'IYR', 'J3I', 'J5K', 'K73', 'LXW', 'M35', 'M6Q', 'MEL', 'MID', 'MXH', 'MZE', 'PMJ', 'PNT', 'PPB', 'PR1', 'PRD_000216', 'PRD_000556', 'R11', 'RPR', 'RWJ', 'T87', 'TFN', 'TL1', 'TL2', 'TL3', 'TL4', 'TYI', 'UIB', 'UIP', 'UIQ', 'UIR', 'UIZ', 'VN1', 'XPE', 'ZAP', 'ZEN']\n"
     ]
    }
   ],
   "source": [
    "molResultL = list(query(\"mol_definition\"))\n",
    "print(molResultL)"
   ]
  },
  {
   "cell_type": "code",
   "execution_count": 6,
   "id": "fdd7db9c",
   "metadata": {},
   "outputs": [
    {
     "name": "stdout",
     "output_type": "stream",
     "text": [
      "There are 119 ligands for EC number 3.4.21.4 in this list. Here is a list of the first ten ligands.\n"
     ]
    },
    {
     "data": {
      "text/plain": [
       "['0CA', '0CB', '0G6', '0IV', '0KV', '0ZG', '0ZW', '0ZX', '0ZY', '10U']"
      ]
     },
     "execution_count": 6,
     "metadata": {},
     "output_type": "execute_result"
    }
   ],
   "source": [
    "print(\"There are\", len(molResultL) ,\"ligands for EC number\", ECnumber,\"in this list. Here is a list of the first ten ligands.\")\n",
    "molResultL[0:10]"
   ]
  },
  {
   "cell_type": "markdown",
   "id": "ed8341ca-2481-42b1-94f5-be4bc4fd6aca",
   "metadata": {},
   "source": [
    "# How do we download the ligand files?"
   ]
  },
  {
   "cell_type": "code",
   "execution_count": 7,
   "id": "8f3f0982",
   "metadata": {},
   "outputs": [],
   "source": [
    "import requests       # to enable us to pull files from the PDB\n",
    "import os             # to enable us to create a directory to store the files"
   ]
  },
  {
   "cell_type": "code",
   "execution_count": 10,
   "id": "0d3a8c03",
   "metadata": {},
   "outputs": [],
   "source": [
    "# Download one of the files from our list: 11U.sdf\n",
    "\n",
    "RES_11U_SDF = requests.get('https://files.rcsb.org/ligands/download/11U_ideal.sdf')"
   ]
  },
  {
   "cell_type": "code",
   "execution_count": 11,
   "id": "55040fb6",
   "metadata": {},
   "outputs": [
    {
     "data": {
      "text/plain": [
       "200"
      ]
     },
     "execution_count": 11,
     "metadata": {},
     "output_type": "execute_result"
    }
   ],
   "source": [
    "# check to see that the file downloaded properly. A status code of 200 means everything is okay.\n",
    "\n",
    "RES_11U_SDF.status_code               # Status code check"
   ]
  },
  {
   "cell_type": "code",
   "execution_count": 20,
   "id": "b1c6e858",
   "metadata": {},
   "outputs": [],
   "source": [
    "# make a folder for our ligands\n",
    "os.makedirs(\"rough\", exist_ok=True)\n",
    "\n",
    "with open(\"rough/res_11U.sdf\", \"w+\") as file:\n",
    "    file.write(RES_11U_SDF.text)"
   ]
  },
  {
   "cell_type": "code",
   "execution_count": 13,
   "id": "10192c0d",
   "metadata": {},
   "outputs": [
    {
     "data": {
      "text/plain": [
       "'ab'"
      ]
     },
     "execution_count": 13,
     "metadata": {},
     "output_type": "execute_result"
    }
   ],
   "source": [
    "\"a\"+\"b\""
   ]
  },
  {
   "cell_type": "code",
   "execution_count": 14,
   "id": "c90f31c2",
   "metadata": {},
   "outputs": [
    {
     "name": "stdout",
     "output_type": "stream",
     "text": [
      "download/pq_ideal.sdf\n"
     ]
    }
   ],
   "source": [
    "x = 'download/'\n",
    "y = 'pq_ideal.sdf'\n",
    "print(x+y)"
   ]
  },
  {
   "cell_type": "code",
   "execution_count": 15,
   "id": "c24ae2e1",
   "metadata": {},
   "outputs": [
    {
     "name": "stdout",
     "output_type": "stream",
     "text": [
      "['0CA', '0CB', '0G6', '0IV', '0KV', '0ZG', '0ZW', '0ZX', '0ZY', '10U']\n"
     ]
    }
   ],
   "source": [
    "lliigg = molResultL[0:10]\n",
    "print(lliigg)"
   ]
  },
  {
   "cell_type": "code",
   "execution_count": 23,
   "id": "9b484516",
   "metadata": {},
   "outputs": [
    {
     "name": "stdout",
     "output_type": "stream",
     "text": [
      "0CA_ideal.sdf\n",
      "0CB_ideal.sdf\n",
      "0G6_ideal.sdf\n",
      "0IV_ideal.sdf\n",
      "0KV_ideal.sdf\n",
      "0ZG_ideal.sdf\n",
      "0ZW_ideal.sdf\n",
      "0ZX_ideal.sdf\n",
      "0ZY_ideal.sdf\n",
      "10U_ideal.sdf\n"
     ]
    }
   ],
   "source": [
    "for ChemID in lliigg:\n",
    "    cFile = f\"{ChemID}_ideal.sdf\"\n",
    "    print(cFile)"
   ]
  },
  {
   "cell_type": "code",
   "execution_count": 24,
   "id": "763abb34",
   "metadata": {},
   "outputs": [
    {
     "name": "stdout",
     "output_type": "stream",
     "text": [
      "https://files.rcsb.org/ligands/download/0CA_ideal.sdf\n",
      "https://files.rcsb.org/ligands/download/0CB_ideal.sdf\n",
      "https://files.rcsb.org/ligands/download/0G6_ideal.sdf\n",
      "https://files.rcsb.org/ligands/download/0IV_ideal.sdf\n",
      "https://files.rcsb.org/ligands/download/0KV_ideal.sdf\n",
      "https://files.rcsb.org/ligands/download/0ZG_ideal.sdf\n",
      "https://files.rcsb.org/ligands/download/0ZW_ideal.sdf\n",
      "https://files.rcsb.org/ligands/download/0ZX_ideal.sdf\n",
      "https://files.rcsb.org/ligands/download/0ZY_ideal.sdf\n",
      "https://files.rcsb.org/ligands/download/10U_ideal.sdf\n"
     ]
    }
   ],
   "source": [
    "baselink = \"https://files.rcsb.org/ligands/download/\"\n",
    "\n",
    "for ChemID in lliigg:\n",
    "    cFile = f'{ChemID}_ideal.sdf'\n",
    "    cFilelink = baselink + cFile\n",
    "    print(cFilelink)"
   ]
  },
  {
   "cell_type": "code",
   "execution_count": 25,
   "id": "f7a80f8e",
   "metadata": {},
   "outputs": [
    {
     "name": "stdout",
     "output_type": "stream",
     "text": [
      "rough/0CA_ideal.sdf\n",
      "rough/0CB_ideal.sdf\n",
      "rough/0G6_ideal.sdf\n",
      "rough/0IV_ideal.sdf\n",
      "rough/0KV_ideal.sdf\n",
      "rough/0ZG_ideal.sdf\n",
      "rough/0ZW_ideal.sdf\n",
      "rough/0ZX_ideal.sdf\n",
      "rough/0ZY_ideal.sdf\n",
      "rough/10U_ideal.sdf\n"
     ]
    }
   ],
   "source": [
    "baselink = \"https://files.rcsb.org/ligands/download/\"\n",
    "\n",
    "for ChemID in lliigg:\n",
    "    cFile = f'{ChemID}_ideal.sdf'\n",
    "    cFilelink = baselink + cFile\n",
    "    cFileLocalpath = \"rough/\" + cFile\n",
    "    print(cFileLocalpath)"
   ]
  },
  {
   "cell_type": "code",
   "execution_count": 26,
   "id": "5d168b02",
   "metadata": {},
   "outputs": [],
   "source": [
    "baseLink = \"https://files.rcsb.org/ligands/download/\"\n",
    "\n",
    "for ChemID in lliigg:\n",
    "    cFile = f'{ChemID}_ideal.sdf'\n",
    "    cFileLink = baseLink + cFile\n",
    "    cFileLocalPath = \"rough/\" + cFile\n",
    "    response = requests.get(cFileLink)\n",
    "    with open(cFileLocalPath, 'w+') as f:\n",
    "        f.write(response.text)"
   ]
  },
  {
   "cell_type": "markdown",
   "id": "562f016b-ba76-4db9-80d6-e862d0044b4e",
   "metadata": {},
   "source": [
    "# Downloading all of the ligands"
   ]
  },
  {
   "cell_type": "code",
   "execution_count": 28,
   "id": "c461a4f9",
   "metadata": {},
   "outputs": [],
   "source": [
    "os.makedirs(\"ligands\", exist_ok = True)\n",
    "\n",
    "baseUrl = \"https://files.rcsb.org/ligands/download/\"\n",
    "\n",
    "for ChemID in molResultL:\n",
    "    cFile = f\"{ChemID}_ideal.sdf\"\n",
    "    cFileUrl = baseUrl + cFile\n",
    "    cFileLocalPath = \"ligands/\" + cFile\n",
    "    response = requests.get(cFileUrl)\n",
    "    with open (cFileLocalPath, \"w+\") as file:\n",
    "        file.write(response.text)"
   ]
  },
  {
   "cell_type": "code",
   "execution_count": null,
   "id": "b53c5e29",
   "metadata": {},
   "outputs": [],
   "source": []
  },
  {
   "cell_type": "code",
   "execution_count": null,
   "id": "ce8ba476",
   "metadata": {},
   "outputs": [],
   "source": []
  },
  {
   "cell_type": "code",
   "execution_count": null,
   "id": "a40a4b6d",
   "metadata": {},
   "outputs": [],
   "source": []
  }
 ],
 "metadata": {
  "kernelspec": {
   "display_name": "Python 3 (ipykernel)",
   "language": "python",
   "name": "python3"
  },
  "language_info": {
   "codemirror_mode": {
    "name": "ipython",
    "version": 3
   },
   "file_extension": ".py",
   "mimetype": "text/x-python",
   "name": "python",
   "nbconvert_exporter": "python",
   "pygments_lexer": "ipython3",
   "version": "3.11.9"
  }
 },
 "nbformat": 4,
 "nbformat_minor": 5
}
